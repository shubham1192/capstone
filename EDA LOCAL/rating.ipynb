{
 "cells": [
  {
   "cell_type": "code",
   "execution_count": 1,
   "id": "70b36dca",
   "metadata": {},
   "outputs": [],
   "source": [
    "import pandas as pd"
   ]
  },
  {
   "cell_type": "code",
   "execution_count": 3,
   "id": "1c48f33c",
   "metadata": {},
   "outputs": [],
   "source": [
    "df=pd.read_csv(\"C:/Users/ashi0/Downloads/ratings.csv\")"
   ]
  },
  {
   "cell_type": "code",
   "execution_count": 4,
   "id": "0b4dccf1",
   "metadata": {},
   "outputs": [
    {
     "data": {
      "text/html": [
       "<div>\n",
       "<style scoped>\n",
       "    .dataframe tbody tr th:only-of-type {\n",
       "        vertical-align: middle;\n",
       "    }\n",
       "\n",
       "    .dataframe tbody tr th {\n",
       "        vertical-align: top;\n",
       "    }\n",
       "\n",
       "    .dataframe thead th {\n",
       "        text-align: right;\n",
       "    }\n",
       "</style>\n",
       "<table border=\"1\" class=\"dataframe\">\n",
       "  <thead>\n",
       "    <tr style=\"text-align: right;\">\n",
       "      <th></th>\n",
       "      <th>userId</th>\n",
       "      <th>movieId</th>\n",
       "      <th>rating</th>\n",
       "      <th>timestamp</th>\n",
       "    </tr>\n",
       "  </thead>\n",
       "  <tbody>\n",
       "    <tr>\n",
       "      <th>0</th>\n",
       "      <td>1</td>\n",
       "      <td>110</td>\n",
       "      <td>1.0</td>\n",
       "      <td>1425941529</td>\n",
       "    </tr>\n",
       "    <tr>\n",
       "      <th>1</th>\n",
       "      <td>1</td>\n",
       "      <td>147</td>\n",
       "      <td>4.5</td>\n",
       "      <td>1425942435</td>\n",
       "    </tr>\n",
       "    <tr>\n",
       "      <th>2</th>\n",
       "      <td>1</td>\n",
       "      <td>858</td>\n",
       "      <td>5.0</td>\n",
       "      <td>1425941523</td>\n",
       "    </tr>\n",
       "    <tr>\n",
       "      <th>3</th>\n",
       "      <td>1</td>\n",
       "      <td>1221</td>\n",
       "      <td>5.0</td>\n",
       "      <td>1425941546</td>\n",
       "    </tr>\n",
       "    <tr>\n",
       "      <th>4</th>\n",
       "      <td>1</td>\n",
       "      <td>1246</td>\n",
       "      <td>5.0</td>\n",
       "      <td>1425941556</td>\n",
       "    </tr>\n",
       "    <tr>\n",
       "      <th>...</th>\n",
       "      <td>...</td>\n",
       "      <td>...</td>\n",
       "      <td>...</td>\n",
       "      <td>...</td>\n",
       "    </tr>\n",
       "    <tr>\n",
       "      <th>26024284</th>\n",
       "      <td>270896</td>\n",
       "      <td>58559</td>\n",
       "      <td>5.0</td>\n",
       "      <td>1257031564</td>\n",
       "    </tr>\n",
       "    <tr>\n",
       "      <th>26024285</th>\n",
       "      <td>270896</td>\n",
       "      <td>60069</td>\n",
       "      <td>5.0</td>\n",
       "      <td>1257032032</td>\n",
       "    </tr>\n",
       "    <tr>\n",
       "      <th>26024286</th>\n",
       "      <td>270896</td>\n",
       "      <td>63082</td>\n",
       "      <td>4.5</td>\n",
       "      <td>1257031764</td>\n",
       "    </tr>\n",
       "    <tr>\n",
       "      <th>26024287</th>\n",
       "      <td>270896</td>\n",
       "      <td>64957</td>\n",
       "      <td>4.5</td>\n",
       "      <td>1257033990</td>\n",
       "    </tr>\n",
       "    <tr>\n",
       "      <th>26024288</th>\n",
       "      <td>270896</td>\n",
       "      <td>71878</td>\n",
       "      <td>2.0</td>\n",
       "      <td>1257031858</td>\n",
       "    </tr>\n",
       "  </tbody>\n",
       "</table>\n",
       "<p>26024289 rows × 4 columns</p>\n",
       "</div>"
      ],
      "text/plain": [
       "          userId  movieId  rating   timestamp\n",
       "0              1      110     1.0  1425941529\n",
       "1              1      147     4.5  1425942435\n",
       "2              1      858     5.0  1425941523\n",
       "3              1     1221     5.0  1425941546\n",
       "4              1     1246     5.0  1425941556\n",
       "...          ...      ...     ...         ...\n",
       "26024284  270896    58559     5.0  1257031564\n",
       "26024285  270896    60069     5.0  1257032032\n",
       "26024286  270896    63082     4.5  1257031764\n",
       "26024287  270896    64957     4.5  1257033990\n",
       "26024288  270896    71878     2.0  1257031858\n",
       "\n",
       "[26024289 rows x 4 columns]"
      ]
     },
     "execution_count": 4,
     "metadata": {},
     "output_type": "execute_result"
    }
   ],
   "source": [
    "df"
   ]
  },
  {
   "cell_type": "code",
   "execution_count": 5,
   "id": "862e8659",
   "metadata": {},
   "outputs": [
    {
     "data": {
      "text/plain": [
       "userId       0\n",
       "movieId      0\n",
       "rating       0\n",
       "timestamp    0\n",
       "dtype: int64"
      ]
     },
     "execution_count": 5,
     "metadata": {},
     "output_type": "execute_result"
    }
   ],
   "source": [
    "df.isnull().sum()"
   ]
  },
  {
   "cell_type": "code",
   "execution_count": 6,
   "id": "f99c7f0a",
   "metadata": {},
   "outputs": [],
   "source": [
    "df.drop(columns=['timestamp'],inplace=True)"
   ]
  },
  {
   "cell_type": "code",
   "execution_count": 7,
   "id": "04cc37d8",
   "metadata": {},
   "outputs": [],
   "source": [
    "df.to_csv('ratings_final.csv',index=False)"
   ]
  },
  {
   "cell_type": "code",
   "execution_count": 8,
   "id": "2ec773c2",
   "metadata": {},
   "outputs": [
    {
     "data": {
      "text/plain": [
       "userId       int64\n",
       "movieId      int64\n",
       "rating     float64\n",
       "dtype: object"
      ]
     },
     "execution_count": 8,
     "metadata": {},
     "output_type": "execute_result"
    }
   ],
   "source": [
    "df.dtypes"
   ]
  },
  {
   "cell_type": "code",
   "execution_count": null,
   "id": "a3c509a8",
   "metadata": {},
   "outputs": [],
   "source": []
  }
 ],
 "metadata": {
  "kernelspec": {
   "display_name": "Python 3 (ipykernel)",
   "language": "python",
   "name": "python3"
  },
  "language_info": {
   "codemirror_mode": {
    "name": "ipython",
    "version": 3
   },
   "file_extension": ".py",
   "mimetype": "text/x-python",
   "name": "python",
   "nbconvert_exporter": "python",
   "pygments_lexer": "ipython3",
   "version": "3.11.5"
  }
 },
 "nbformat": 4,
 "nbformat_minor": 5
}

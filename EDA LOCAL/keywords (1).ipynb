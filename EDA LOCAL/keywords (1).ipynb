{
 "cells": [
  {
   "cell_type": "code",
   "execution_count": 1,
   "metadata": {},
   "outputs": [],
   "source": [
    "import pandas as pd\n",
    "import ast\n",
    "import numpy as np"
   ]
  },
  {
   "cell_type": "code",
   "execution_count": 3,
   "metadata": {},
   "outputs": [
    {
     "data": {
      "text/html": [
       "<div>\n",
       "<style scoped>\n",
       "    .dataframe tbody tr th:only-of-type {\n",
       "        vertical-align: middle;\n",
       "    }\n",
       "\n",
       "    .dataframe tbody tr th {\n",
       "        vertical-align: top;\n",
       "    }\n",
       "\n",
       "    .dataframe thead th {\n",
       "        text-align: right;\n",
       "    }\n",
       "</style>\n",
       "<table border=\"1\" class=\"dataframe\">\n",
       "  <thead>\n",
       "    <tr style=\"text-align: right;\">\n",
       "      <th></th>\n",
       "      <th>id</th>\n",
       "      <th>keywords</th>\n",
       "    </tr>\n",
       "  </thead>\n",
       "  <tbody>\n",
       "    <tr>\n",
       "      <th>0</th>\n",
       "      <td>862</td>\n",
       "      <td>[{'id': 931, 'name': 'jealousy'}, {'id': 4290,...</td>\n",
       "    </tr>\n",
       "    <tr>\n",
       "      <th>1</th>\n",
       "      <td>8844</td>\n",
       "      <td>[{'id': 10090, 'name': 'board game'}, {'id': 1...</td>\n",
       "    </tr>\n",
       "    <tr>\n",
       "      <th>2</th>\n",
       "      <td>15602</td>\n",
       "      <td>[{'id': 1495, 'name': 'fishing'}, {'id': 12392...</td>\n",
       "    </tr>\n",
       "    <tr>\n",
       "      <th>3</th>\n",
       "      <td>31357</td>\n",
       "      <td>[{'id': 818, 'name': 'based on novel'}, {'id':...</td>\n",
       "    </tr>\n",
       "    <tr>\n",
       "      <th>4</th>\n",
       "      <td>11862</td>\n",
       "      <td>[{'id': 1009, 'name': 'baby'}, {'id': 1599, 'n...</td>\n",
       "    </tr>\n",
       "    <tr>\n",
       "      <th>...</th>\n",
       "      <td>...</td>\n",
       "      <td>...</td>\n",
       "    </tr>\n",
       "    <tr>\n",
       "      <th>46414</th>\n",
       "      <td>439050</td>\n",
       "      <td>[{'id': 10703, 'name': 'tragic love'}]</td>\n",
       "    </tr>\n",
       "    <tr>\n",
       "      <th>46415</th>\n",
       "      <td>111109</td>\n",
       "      <td>[{'id': 2679, 'name': 'artist'}, {'id': 14531,...</td>\n",
       "    </tr>\n",
       "    <tr>\n",
       "      <th>46416</th>\n",
       "      <td>67758</td>\n",
       "      <td>[]</td>\n",
       "    </tr>\n",
       "    <tr>\n",
       "      <th>46417</th>\n",
       "      <td>227506</td>\n",
       "      <td>[]</td>\n",
       "    </tr>\n",
       "    <tr>\n",
       "      <th>46418</th>\n",
       "      <td>461257</td>\n",
       "      <td>[]</td>\n",
       "    </tr>\n",
       "  </tbody>\n",
       "</table>\n",
       "<p>46419 rows × 2 columns</p>\n",
       "</div>"
      ],
      "text/plain": [
       "           id                                           keywords\n",
       "0         862  [{'id': 931, 'name': 'jealousy'}, {'id': 4290,...\n",
       "1        8844  [{'id': 10090, 'name': 'board game'}, {'id': 1...\n",
       "2       15602  [{'id': 1495, 'name': 'fishing'}, {'id': 12392...\n",
       "3       31357  [{'id': 818, 'name': 'based on novel'}, {'id':...\n",
       "4       11862  [{'id': 1009, 'name': 'baby'}, {'id': 1599, 'n...\n",
       "...       ...                                                ...\n",
       "46414  439050             [{'id': 10703, 'name': 'tragic love'}]\n",
       "46415  111109  [{'id': 2679, 'name': 'artist'}, {'id': 14531,...\n",
       "46416   67758                                                 []\n",
       "46417  227506                                                 []\n",
       "46418  461257                                                 []\n",
       "\n",
       "[46419 rows x 2 columns]"
      ]
     },
     "execution_count": 3,
     "metadata": {},
     "output_type": "execute_result"
    }
   ],
   "source": [
    "df=pd.read_csv('C:/Users/ashi0/Downloads/keywords.csv')\n",
    "df"
   ]
  },
  {
   "cell_type": "code",
   "execution_count": 4,
   "metadata": {},
   "outputs": [],
   "source": [
    "df['keywords']=df['keywords'].apply(ast.literal_eval)"
   ]
  },
  {
   "cell_type": "code",
   "execution_count": 5,
   "metadata": {},
   "outputs": [],
   "source": [
    "# type(df['keywords'][0][1])"
   ]
  },
  {
   "cell_type": "code",
   "execution_count": 6,
   "metadata": {},
   "outputs": [
    {
     "data": {
      "text/html": [
       "<div>\n",
       "<style scoped>\n",
       "    .dataframe tbody tr th:only-of-type {\n",
       "        vertical-align: middle;\n",
       "    }\n",
       "\n",
       "    .dataframe tbody tr th {\n",
       "        vertical-align: top;\n",
       "    }\n",
       "\n",
       "    .dataframe thead th {\n",
       "        text-align: right;\n",
       "    }\n",
       "</style>\n",
       "<table border=\"1\" class=\"dataframe\">\n",
       "  <thead>\n",
       "    <tr style=\"text-align: right;\">\n",
       "      <th></th>\n",
       "      <th>id</th>\n",
       "      <th>keywords</th>\n",
       "    </tr>\n",
       "  </thead>\n",
       "  <tbody>\n",
       "    <tr>\n",
       "      <th>0</th>\n",
       "      <td>862</td>\n",
       "      <td>{'id': 931, 'name': 'jealousy'}</td>\n",
       "    </tr>\n",
       "    <tr>\n",
       "      <th>0</th>\n",
       "      <td>862</td>\n",
       "      <td>{'id': 4290, 'name': 'toy'}</td>\n",
       "    </tr>\n",
       "    <tr>\n",
       "      <th>0</th>\n",
       "      <td>862</td>\n",
       "      <td>{'id': 5202, 'name': 'boy'}</td>\n",
       "    </tr>\n",
       "    <tr>\n",
       "      <th>0</th>\n",
       "      <td>862</td>\n",
       "      <td>{'id': 6054, 'name': 'friendship'}</td>\n",
       "    </tr>\n",
       "    <tr>\n",
       "      <th>0</th>\n",
       "      <td>862</td>\n",
       "      <td>{'id': 9713, 'name': 'friends'}</td>\n",
       "    </tr>\n",
       "    <tr>\n",
       "      <th>...</th>\n",
       "      <td>...</td>\n",
       "      <td>...</td>\n",
       "    </tr>\n",
       "    <tr>\n",
       "      <th>46415</th>\n",
       "      <td>111109</td>\n",
       "      <td>{'id': 14531, 'name': 'play'}</td>\n",
       "    </tr>\n",
       "    <tr>\n",
       "      <th>46415</th>\n",
       "      <td>111109</td>\n",
       "      <td>{'id': 215397, 'name': 'pinoy'}</td>\n",
       "    </tr>\n",
       "    <tr>\n",
       "      <th>46416</th>\n",
       "      <td>67758</td>\n",
       "      <td>NaN</td>\n",
       "    </tr>\n",
       "    <tr>\n",
       "      <th>46417</th>\n",
       "      <td>227506</td>\n",
       "      <td>NaN</td>\n",
       "    </tr>\n",
       "    <tr>\n",
       "      <th>46418</th>\n",
       "      <td>461257</td>\n",
       "      <td>NaN</td>\n",
       "    </tr>\n",
       "  </tbody>\n",
       "</table>\n",
       "<p>173475 rows × 2 columns</p>\n",
       "</div>"
      ],
      "text/plain": [
       "           id                            keywords\n",
       "0         862     {'id': 931, 'name': 'jealousy'}\n",
       "0         862         {'id': 4290, 'name': 'toy'}\n",
       "0         862         {'id': 5202, 'name': 'boy'}\n",
       "0         862  {'id': 6054, 'name': 'friendship'}\n",
       "0         862     {'id': 9713, 'name': 'friends'}\n",
       "...       ...                                 ...\n",
       "46415  111109       {'id': 14531, 'name': 'play'}\n",
       "46415  111109     {'id': 215397, 'name': 'pinoy'}\n",
       "46416   67758                                 NaN\n",
       "46417  227506                                 NaN\n",
       "46418  461257                                 NaN\n",
       "\n",
       "[173475 rows x 2 columns]"
      ]
     },
     "execution_count": 6,
     "metadata": {},
     "output_type": "execute_result"
    }
   ],
   "source": [
    "df_exploded = df.explode('keywords')\n",
    "df_exploded"
   ]
  },
  {
   "cell_type": "code",
   "execution_count": 7,
   "metadata": {},
   "outputs": [],
   "source": [
    "def name(x):\n",
    "    if isinstance(x,dict)==True:\n",
    "        getx=x[\"name\"]\n",
    "        return getx\n",
    "    else:\n",
    "        return np.nan"
   ]
  },
  {
   "cell_type": "code",
   "execution_count": 8,
   "metadata": {},
   "outputs": [],
   "source": [
    "def id(x):\n",
    "    if isinstance(x,dict)==True:\n",
    "        getid=x[\"id\"]\n",
    "        return getid\n",
    "    else:\n",
    "        return np.nan"
   ]
  },
  {
   "cell_type": "code",
   "execution_count": 9,
   "metadata": {},
   "outputs": [],
   "source": [
    "df_exploded['keywords_name']=df_exploded['keywords'].apply(lambda x:name(x))\n",
    "df_exploded['keywords_id']=df_exploded['keywords'].apply(lambda x:id(x))"
   ]
  },
  {
   "cell_type": "code",
   "execution_count": 10,
   "metadata": {},
   "outputs": [],
   "source": [
    "df_exploded.dropna(inplace=True)"
   ]
  },
  {
   "cell_type": "code",
   "execution_count": 11,
   "metadata": {},
   "outputs": [
    {
     "data": {
      "text/html": [
       "<div>\n",
       "<style scoped>\n",
       "    .dataframe tbody tr th:only-of-type {\n",
       "        vertical-align: middle;\n",
       "    }\n",
       "\n",
       "    .dataframe tbody tr th {\n",
       "        vertical-align: top;\n",
       "    }\n",
       "\n",
       "    .dataframe thead th {\n",
       "        text-align: right;\n",
       "    }\n",
       "</style>\n",
       "<table border=\"1\" class=\"dataframe\">\n",
       "  <thead>\n",
       "    <tr style=\"text-align: right;\">\n",
       "      <th></th>\n",
       "      <th>id</th>\n",
       "      <th>keywords</th>\n",
       "      <th>keywords_name</th>\n",
       "      <th>keywords_id</th>\n",
       "    </tr>\n",
       "  </thead>\n",
       "  <tbody>\n",
       "    <tr>\n",
       "      <th>2903</th>\n",
       "      <td>476</td>\n",
       "      <td>{'id': 30, 'name': 'individual'}</td>\n",
       "      <td>individual</td>\n",
       "      <td>30</td>\n",
       "    </tr>\n",
       "    <tr>\n",
       "      <th>2881</th>\n",
       "      <td>492</td>\n",
       "      <td>{'id': 30, 'name': 'individual'}</td>\n",
       "      <td>individual</td>\n",
       "      <td>30</td>\n",
       "    </tr>\n",
       "    <tr>\n",
       "      <th>7918</th>\n",
       "      <td>436</td>\n",
       "      <td>{'id': 30, 'name': 'individual'}</td>\n",
       "      <td>individual</td>\n",
       "      <td>30</td>\n",
       "    </tr>\n",
       "    <tr>\n",
       "      <th>286</th>\n",
       "      <td>527</td>\n",
       "      <td>{'id': 30, 'name': 'individual'}</td>\n",
       "      <td>individual</td>\n",
       "      <td>30</td>\n",
       "    </tr>\n",
       "    <tr>\n",
       "      <th>5588</th>\n",
       "      <td>225</td>\n",
       "      <td>{'id': 30, 'name': 'individual'}</td>\n",
       "      <td>individual</td>\n",
       "      <td>30</td>\n",
       "    </tr>\n",
       "    <tr>\n",
       "      <th>...</th>\n",
       "      <td>...</td>\n",
       "      <td>...</td>\n",
       "      <td>...</td>\n",
       "      <td>...</td>\n",
       "    </tr>\n",
       "    <tr>\n",
       "      <th>20815</th>\n",
       "      <td>229768</td>\n",
       "      <td>{'id': 238854, 'name': 'one dollar'}</td>\n",
       "      <td>one dollar</td>\n",
       "      <td>238854</td>\n",
       "    </tr>\n",
       "    <tr>\n",
       "      <th>13252</th>\n",
       "      <td>15584</td>\n",
       "      <td>{'id': 238855, 'name': 'title appears in writi...</td>\n",
       "      <td>title appears in writing</td>\n",
       "      <td>238855</td>\n",
       "    </tr>\n",
       "    <tr>\n",
       "      <th>42679</th>\n",
       "      <td>407204</td>\n",
       "      <td>{'id': 238856, 'name': 'petanque'}</td>\n",
       "      <td>petanque</td>\n",
       "      <td>238856</td>\n",
       "    </tr>\n",
       "    <tr>\n",
       "      <th>42679</th>\n",
       "      <td>407204</td>\n",
       "      <td>{'id': 238857, 'name': 'disfigured'}</td>\n",
       "      <td>disfigured</td>\n",
       "      <td>238857</td>\n",
       "    </tr>\n",
       "    <tr>\n",
       "      <th>27663</th>\n",
       "      <td>94904</td>\n",
       "      <td>{'id': 238884, 'name': 'castro regime'}</td>\n",
       "      <td>castro regime</td>\n",
       "      <td>238884</td>\n",
       "    </tr>\n",
       "  </tbody>\n",
       "</table>\n",
       "<p>158680 rows × 4 columns</p>\n",
       "</div>"
      ],
      "text/plain": [
       "           id                                           keywords  \\\n",
       "2903      476                   {'id': 30, 'name': 'individual'}   \n",
       "2881      492                   {'id': 30, 'name': 'individual'}   \n",
       "7918      436                   {'id': 30, 'name': 'individual'}   \n",
       "286       527                   {'id': 30, 'name': 'individual'}   \n",
       "5588      225                   {'id': 30, 'name': 'individual'}   \n",
       "...       ...                                                ...   \n",
       "20815  229768               {'id': 238854, 'name': 'one dollar'}   \n",
       "13252   15584  {'id': 238855, 'name': 'title appears in writi...   \n",
       "42679  407204                 {'id': 238856, 'name': 'petanque'}   \n",
       "42679  407204               {'id': 238857, 'name': 'disfigured'}   \n",
       "27663   94904            {'id': 238884, 'name': 'castro regime'}   \n",
       "\n",
       "                  keywords_name  keywords_id  \n",
       "2903                 individual           30  \n",
       "2881                 individual           30  \n",
       "7918                 individual           30  \n",
       "286                  individual           30  \n",
       "5588                 individual           30  \n",
       "...                         ...          ...  \n",
       "20815                one dollar       238854  \n",
       "13252  title appears in writing       238855  \n",
       "42679                  petanque       238856  \n",
       "42679                disfigured       238857  \n",
       "27663             castro regime       238884  \n",
       "\n",
       "[158680 rows x 4 columns]"
      ]
     },
     "execution_count": 11,
     "metadata": {},
     "output_type": "execute_result"
    }
   ],
   "source": [
    "df_exploded['keywords_id']=df_exploded['keywords_id'].astype(int)\n",
    "df_exploded.sort_values(by='keywords_id')"
   ]
  },
  {
   "cell_type": "code",
   "execution_count": 12,
   "metadata": {},
   "outputs": [
    {
     "data": {
      "text/plain": [
       "keywords_id\n",
       "187056    3115\n",
       "10183     1930\n",
       "9826      1308\n",
       "818        835\n",
       "4344       734\n",
       "          ... \n",
       "227095       1\n",
       "207939       1\n",
       "155591       1\n",
       "238511       1\n",
       "209358       1\n",
       "Name: count, Length: 19956, dtype: int64"
      ]
     },
     "execution_count": 12,
     "metadata": {},
     "output_type": "execute_result"
    }
   ],
   "source": [
    "df_exploded['keywords_id'].value_counts()"
   ]
  },
  {
   "cell_type": "code",
   "execution_count": 13,
   "metadata": {},
   "outputs": [
    {
     "name": "stdout",
     "output_type": "stream",
     "text": [
      "keywords_name\n",
      "woman director      3115\n",
      "independent film    1930\n",
      "murder              1308\n",
      "based on novel       835\n",
      "musical              734\n",
      "                    ... \n",
      "longest film           1\n",
      "figher airplane        1\n",
      "all girl               1\n",
      "ancient scroll         1\n",
      "acab                   1\n",
      "Name: count, Length: 19956, dtype: int64\n"
     ]
    }
   ],
   "source": [
    "print(df_exploded['keywords_name'].value_counts())"
   ]
  },
  {
   "cell_type": "code",
   "execution_count": 16,
   "metadata": {},
   "outputs": [],
   "source": [
    "df_cleaned = df_exploded.dropna()"
   ]
  },
  {
   "cell_type": "code",
   "execution_count": 29,
   "metadata": {},
   "outputs": [
    {
     "data": {
      "text/html": [
       "<div>\n",
       "<style scoped>\n",
       "    .dataframe tbody tr th:only-of-type {\n",
       "        vertical-align: middle;\n",
       "    }\n",
       "\n",
       "    .dataframe tbody tr th {\n",
       "        vertical-align: top;\n",
       "    }\n",
       "\n",
       "    .dataframe thead th {\n",
       "        text-align: right;\n",
       "    }\n",
       "</style>\n",
       "<table border=\"1\" class=\"dataframe\">\n",
       "  <thead>\n",
       "    <tr style=\"text-align: right;\">\n",
       "      <th></th>\n",
       "      <th>id</th>\n",
       "      <th>keywords</th>\n",
       "      <th>keywords_name</th>\n",
       "      <th>keywords_id</th>\n",
       "    </tr>\n",
       "  </thead>\n",
       "  <tbody>\n",
       "    <tr>\n",
       "      <th>0</th>\n",
       "      <td>862</td>\n",
       "      <td>{'id': 931, 'name': 'jealousy'}</td>\n",
       "      <td>jealousy</td>\n",
       "      <td>931</td>\n",
       "    </tr>\n",
       "    <tr>\n",
       "      <th>0</th>\n",
       "      <td>862</td>\n",
       "      <td>{'id': 4290, 'name': 'toy'}</td>\n",
       "      <td>toy</td>\n",
       "      <td>4290</td>\n",
       "    </tr>\n",
       "    <tr>\n",
       "      <th>0</th>\n",
       "      <td>862</td>\n",
       "      <td>{'id': 5202, 'name': 'boy'}</td>\n",
       "      <td>boy</td>\n",
       "      <td>5202</td>\n",
       "    </tr>\n",
       "    <tr>\n",
       "      <th>0</th>\n",
       "      <td>862</td>\n",
       "      <td>{'id': 6054, 'name': 'friendship'}</td>\n",
       "      <td>friendship</td>\n",
       "      <td>6054</td>\n",
       "    </tr>\n",
       "    <tr>\n",
       "      <th>0</th>\n",
       "      <td>862</td>\n",
       "      <td>{'id': 9713, 'name': 'friends'}</td>\n",
       "      <td>friends</td>\n",
       "      <td>9713</td>\n",
       "    </tr>\n",
       "    <tr>\n",
       "      <th>...</th>\n",
       "      <td>...</td>\n",
       "      <td>...</td>\n",
       "      <td>...</td>\n",
       "      <td>...</td>\n",
       "    </tr>\n",
       "    <tr>\n",
       "      <th>46411</th>\n",
       "      <td>289923</td>\n",
       "      <td>{'id': 11800, 'name': 'mockumentary'}</td>\n",
       "      <td>mockumentary</td>\n",
       "      <td>11800</td>\n",
       "    </tr>\n",
       "    <tr>\n",
       "      <th>46414</th>\n",
       "      <td>439050</td>\n",
       "      <td>{'id': 10703, 'name': 'tragic love'}</td>\n",
       "      <td>tragic love</td>\n",
       "      <td>10703</td>\n",
       "    </tr>\n",
       "    <tr>\n",
       "      <th>46415</th>\n",
       "      <td>111109</td>\n",
       "      <td>{'id': 2679, 'name': 'artist'}</td>\n",
       "      <td>artist</td>\n",
       "      <td>2679</td>\n",
       "    </tr>\n",
       "    <tr>\n",
       "      <th>46415</th>\n",
       "      <td>111109</td>\n",
       "      <td>{'id': 14531, 'name': 'play'}</td>\n",
       "      <td>play</td>\n",
       "      <td>14531</td>\n",
       "    </tr>\n",
       "    <tr>\n",
       "      <th>46415</th>\n",
       "      <td>111109</td>\n",
       "      <td>{'id': 215397, 'name': 'pinoy'}</td>\n",
       "      <td>pinoy</td>\n",
       "      <td>215397</td>\n",
       "    </tr>\n",
       "  </tbody>\n",
       "</table>\n",
       "<p>158680 rows × 4 columns</p>\n",
       "</div>"
      ],
      "text/plain": [
       "           id                               keywords keywords_name  \\\n",
       "0         862        {'id': 931, 'name': 'jealousy'}      jealousy   \n",
       "0         862            {'id': 4290, 'name': 'toy'}           toy   \n",
       "0         862            {'id': 5202, 'name': 'boy'}           boy   \n",
       "0         862     {'id': 6054, 'name': 'friendship'}    friendship   \n",
       "0         862        {'id': 9713, 'name': 'friends'}       friends   \n",
       "...       ...                                    ...           ...   \n",
       "46411  289923  {'id': 11800, 'name': 'mockumentary'}  mockumentary   \n",
       "46414  439050   {'id': 10703, 'name': 'tragic love'}   tragic love   \n",
       "46415  111109         {'id': 2679, 'name': 'artist'}        artist   \n",
       "46415  111109          {'id': 14531, 'name': 'play'}          play   \n",
       "46415  111109        {'id': 215397, 'name': 'pinoy'}         pinoy   \n",
       "\n",
       "       keywords_id  \n",
       "0              931  \n",
       "0             4290  \n",
       "0             5202  \n",
       "0             6054  \n",
       "0             9713  \n",
       "...            ...  \n",
       "46411        11800  \n",
       "46414        10703  \n",
       "46415         2679  \n",
       "46415        14531  \n",
       "46415       215397  \n",
       "\n",
       "[158680 rows x 4 columns]"
      ]
     },
     "execution_count": 29,
     "metadata": {},
     "output_type": "execute_result"
    }
   ],
   "source": [
    "df_cleaned"
   ]
  },
  {
   "cell_type": "code",
   "execution_count": 18,
   "metadata": {},
   "outputs": [
    {
     "data": {
      "text/plain": [
       "Index(['id', 'keywords', 'keywords_name', 'keywords_id'], dtype='object')"
      ]
     },
     "execution_count": 18,
     "metadata": {},
     "output_type": "execute_result"
    }
   ],
   "source": [
    "df_cleaned.columns"
   ]
  },
  {
   "cell_type": "code",
   "execution_count": 19,
   "metadata": {},
   "outputs": [
    {
     "data": {
      "text/plain": [
       "id                int64\n",
       "keywords         object\n",
       "keywords_name    object\n",
       "keywords_id       int32\n",
       "dtype: object"
      ]
     },
     "execution_count": 19,
     "metadata": {},
     "output_type": "execute_result"
    }
   ],
   "source": [
    "df_cleaned.dtypes"
   ]
  },
  {
   "cell_type": "code",
   "execution_count": 31,
   "metadata": {},
   "outputs": [],
   "source": [
    "eda_dictionary = {\n",
    "    \"df_cleaned\": {\n",
    "        \"Total Rows\": df.shape[0],\n",
    "        \"Total Columns\": df.shape[1],\n",
    "        \"Columns\": list(df.columns),\n",
    "        \"Missing Values\": df.isnull().sum().to_dict(),\n",
    "        \"Data Types\": df.dtypes.to_dict(),\n",
    "        \"Summary\": df.describe().to_dict(),\n",
    "    }}"
   ]
  },
  {
   "cell_type": "code",
   "execution_count": 32,
   "metadata": {},
   "outputs": [
    {
     "data": {
      "text/plain": [
       "{'df_cleaned': {'Total Rows': 46419,\n",
       "  'Total Columns': 2,\n",
       "  'Columns': ['id', 'keywords'],\n",
       "  'Missing Values': {'id': 0, 'keywords': 0},\n",
       "  'Data Types': {'id': dtype('int64'), 'keywords': dtype('O')},\n",
       "  'Summary': {'id': {'count': 46419.0,\n",
       "    'mean': 109769.95187315538,\n",
       "    'std': 113045.78025568469,\n",
       "    'min': 2.0,\n",
       "    '25%': 26810.5,\n",
       "    '50%': 61198.0,\n",
       "    '75%': 159908.5,\n",
       "    'max': 469172.0}}}}"
      ]
     },
     "execution_count": 32,
     "metadata": {},
     "output_type": "execute_result"
    }
   ],
   "source": [
    "eda_dictionary\n"
   ]
  },
  {
   "cell_type": "code",
   "execution_count": 33,
   "metadata": {},
   "outputs": [],
   "source": [
    "import matplotlib.pyplot as plt\n",
    "import seaborn as sns"
   ]
  },
  {
   "cell_type": "code",
   "execution_count": 34,
   "metadata": {},
   "outputs": [
    {
     "data": {
      "image/png": "[encoded data removed]",
      "text/plain": [
       "<Figure size 1000x600 with 1 Axes>"
      ]
     },
     "metadata": {},
     "output_type": "display_data"
    }
   ],
   "source": [
    "plt.figure(figsize=(10, 6))\n",
    "sns.histplot(df['id'], bins=10, kde=True)\n",
    "plt.title('Histogram')\n",
    "plt.show()"
   ]
  },
  {
   "cell_type": "code",
   "execution_count": null,
   "metadata": {},
   "outputs": [],
   "source": []
  }
 ],
 "metadata": {
  "kernelspec": {
   "display_name": "Python 3 (ipykernel)",
   "language": "python",
   "name": "python3"
  },
  "language_info": {
   "codemirror_mode": {
    "name": "ipython",
    "version": 3
   },
   "file_extension": ".py",
   "mimetype": "text/x-python",
   "name": "python",
   "nbconvert_exporter": "python",
   "pygments_lexer": "ipython3",
   "version": "3.11.5"
  }
 },
 "nbformat": 4,
 "nbformat_minor": 2
}
